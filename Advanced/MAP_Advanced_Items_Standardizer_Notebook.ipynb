{
 "cells": [
  {
   "cell_type": "markdown",
   "id": "eabca070-e914-44c2-951f-c12de09769af",
   "metadata": {
    "microsoft": {
     "language": "python",
     "language_group": "synapse_pyspark"
    },
    "nteract": {
     "transient": {
      "deleting": false
     }
    }
   },
   "source": [
    "# Advanced Construction Item Description Standardization\n",
    "\n",
    "## Overview\n",
    "This notebook implements an advanced standardization system for construction item descriptions using BERT-based similarity detection, comprehensive pattern matching, and intelligent duplicate detection.\n",
    "\n",
    "## Key Features\n",
    "- BERT embeddings for semantic similarity\n",
    "- Fuzzy matching for near-duplicates\n",
    "- Advanced clustering for item grouping\n",
    "- Comprehensive construction terminology standardization\n",
    "\n",
    "## Implementation\n",
    "The process consists of three main components:\n",
    "1. Library imports and setup\n",
    "2. Advanced standardizer class implementation\n",
    "3. Data processing and results generation"
   ]
  },
  {
   "cell_type": "code",
   "execution_count": null,
   "id": "d8f0e9a6-0e5d-4fa6-9e8c-6b1c0f10e38e",
   "metadata": {
    "microsoft": {
     "language": "python",
     "language_group": "synapse_pyspark"
    }
   },
   "outputs": [],
   "source": [
    "%pip install sentence-transformers scikit-learn rapidfuzz transformers torch"
   ]
  },
  {
   "cell_type": "markdown",
   "id": "90989f70-7f15-48bf-9bcd-96cf4e9e4918",
   "metadata": {
    "microsoft": {
     "language": "python",
     "language_group": "synapse_pyspark"
    },
    "nteract": {
     "transient": {
      "deleting": false
     }
    }
   },
   "source": [
    "## Import Libraries\n",
    "Import required libraries for text processing, machine learning, and data manipulation. This includes specialized libraries for BERT embeddings and fuzzy matching."
   ]
  },
  {
   "cell_type": "code",
   "execution_count": null,
   "id": "55945dcd-0e25-4ed7-9f8b-cae1d6c5e117",
   "metadata": {
    "microsoft": {
     "language": "python",
     "language_group": "synapse_pyspark"
    }
   },
   "outputs": [],
   "source": [
    "# Import required libraries\n",
    "import pandas as pd\n",
    "import numpy as np\n",
    "import re\n",
    "import logging\n",
    "from typing import Tuple, List, Dict\n",
    "from fractions import Fraction\n",
    "from rapidfuzz import fuzz\n",
    "from sentence_transformers import SentenceTransformer\n",
    "from sklearn.cluster import DBSCAN\n",
    "from sklearn.metrics.pairwise import cosine_similarity\n",
    "\n",
    "# Configure logging\n",
    "logging.basicConfig(\n",
    "    level=logging.INFO,\n",
    "    format='%(asctime)s - %(levelname)s - %(message)s'\n",
    ")\n",
    "logger = logging.getLogger(__name__)"
   ]
  },
  {
   "cell_type": "markdown",
   "id": "4b7af0d5-2fc3-4ced-8394-ce6c0a16a7bc",
   "metadata": {
    "microsoft": {
     "language": "python",
     "language_group": "synapse_pyspark"
    },
    "nteract": {
     "transient": {
      "deleting": false
     }
    }
   },
   "source": [
    "## Standardizer Class Implementation\n",
    "Define the advanced standardizer class with comprehensive pattern matching and similarity detection capabilities."
   ]
  },
  {
   "cell_type": "code",
   "execution_count": null,
   "id": "6135bb37-51a6-4ddb-b300-87eb7237838b",
   "metadata": {
    "microsoft": {
     "language": "python",
     "language_group": "synapse_pyspark"
    }
   },
   "outputs": [],
   "source": [
    "class ConstructionItemStandardizer:\n",
    "    def __init__(self):\n",
    "        self.logger = logging.getLogger(__name__)\n",
    "        self._initialize_patterns()\n",
    "        \n",
    "    def _initialize_patterns(self):\n",
    "        \"\"\"Initialize all standardization patterns\"\"\"\n",
    "        # Standard measurements\n",
    "        self.measurement_patterns = {\n",
    "            # Fractions and Mixed Numbers\n",
    "            r'(\\d+)\\s*/\\s*(\\d+)': r'\\1/\\2',\n",
    "            r'(\\d+)-(\\d+)/(\\d+)': r'\\1-\\2/\\3',\n",
    "            r'(\\d+)\\s+(\\d+)/(\\d+)': r'\\1-\\2/\\3',\n",
    "            \n",
    "            # Dimensions with various separators\n",
    "            r'(\\d+(?:\\.\\d+)?)\\s*(?:\"|IN|INCH|INCHES)\\s*[xX×]\\s*(\\d+(?:\\.\\d+)?)\\s*(?:\"|IN|INCH|INCHES)\\s*[xX]\\s*(\\d+(?:\\.\\d+)?)\\s*(?:\"|IN|INCH|INCHES)': r'\\1IN X \\2IN X \\3IN',\n",
    "            r'(\\d+(?:\\.\\d+)?)\\s*(?:\"|IN|INCH|INCHES)\\s*[xX]\\s*(\\d+(?:\\.\\d+)?)\\s*(?:\"|IN|INCH|INCHES)': r'\\1IN X \\2IN',\n",
    "            \n",
    "            # Decimal measurements\n",
    "            r'(\\d+\\.\\d+)(?:\"|IN|INCH|INCHES)\\b': r'\\1IN',\n",
    "            r'(\\d+\\.\\d+)(?:\\'|FT|FEET|FOOT)\\b': r'\\1FT',\n",
    "            \n",
    "            # Ranges and sizes\n",
    "            r'(\\d+)(?:\\s*-\\s*TO\\s*-\\s*)(\\d+)': r'\\1-\\2',\n",
    "            r'SIZE\\s*:?\\s*(\\d+)': r'\\1',\n",
    "            r'#(\\d+)': r'NO.\\1',\n",
    "        }\n",
    "        \n",
    "        # Expanded unit standardization\n",
    "        self.unit_standardization = {\n",
    "            # Length/Distance\n",
    "            r'\\bINCHES\\b|\\bINCH\\b|\\bIN\\b|\"': 'IN',\n",
    "            r'\\bFEET\\b|\\bFOOT\\b|\\bFT\\b|\\'': 'FT',\n",
    "            r'\\bYARDS?\\b|\\bYD\\b': 'YD',\n",
    "            r'\\bMILLIMETERS?\\b|\\bMM\\b': 'MM',\n",
    "            r'\\bCENTIMETERS?\\b|\\bCM\\b': 'CM',\n",
    "            r'\\bMETERS?\\b|\\bM\\b': 'M',\n",
    "            \n",
    "            # Weight\n",
    "            r'\\bPOUNDS?\\b|\\bLBS?\\b': 'LB',\n",
    "            r'\\bOUNCES?\\b|\\bOZ\\b': 'OZ',\n",
    "            r'\\bKILOGRAMS?\\b|\\bKG\\b': 'KG',\n",
    "            r'\\bGRAMS?\\b|\\bG\\b': 'G',\n",
    "            \n",
    "            # Volume\n",
    "            r'\\bGALLONS?\\b|\\bGAL\\b': 'GAL',\n",
    "            r'\\bQUARTS?\\b|\\bQT\\b': 'QT',\n",
    "            r'\\bPINTS?\\b|\\bPT\\b': 'PT',\n",
    "            r'\\bLITERS?\\b|\\bL\\b': 'L',\n",
    "            r'\\bFLUID\\s+OUNCES?\\b|\\bFL\\s*OZ\\b': 'FL OZ',\n",
    "            \n",
    "            # Area\n",
    "            r'\\bSQUARE\\s*FEET\\b|\\bSQ\\s*FT\\b': 'SQ FT',\n",
    "            r'\\bSQUARE\\s*YARDS?\\b|\\bSQ\\s*YD\\b': 'SQ YD',\n",
    "            r'\\bSQUARE\\s*METERS?\\b|\\bSQ\\s*M\\b': 'SQ M',\n",
    "            \n",
    "            # Quantity\n",
    "            r'\\bCOUNT\\b|\\bCT\\b|\\bPC?S?\\b|\\bPIECES?\\b': 'PC',\n",
    "            r'\\bPACKS?\\b|\\bPK\\b': 'PK',\n",
    "            r'\\bBOXES?\\b|\\bBX\\b': 'BX',\n",
    "            r'\\bSETS?\\b': 'SET',\n",
    "            r'\\bPAIRS?\\b|\\bPR\\b': 'PR',\n",
    "            \n",
    "            # Electrical\n",
    "            r'\\bVOLTS?\\b|\\bV\\b': 'V',\n",
    "            r'\\bAMPS?\\b|\\bA\\b': 'A',\n",
    "            r'\\bWATTS?\\b|\\bW\\b': 'W',\n",
    "        }\n",
    "        \n",
    "        # Construction specific terms\n",
    "        self.construction_terms = {\n",
    "            # Materials\n",
    "            r'\\bSTAINLESS\\s+STEEL\\b': 'SS',\n",
    "            r'\\bCARBON\\s+STEEL\\b': 'CS',\n",
    "            r'\\bHIGH\\s+DENSITY\\b': 'HD',\n",
    "            r'\\bLOW\\s+DENSITY\\b': 'LD',\n",
    "            r'\\bPRESSURE\\s+TREATED\\b': 'PT',\n",
    "            r'\\bULTRA\\s+HIGH\\s+MOLECULAR\\s+WEIGHT\\b': 'UHMW',\n",
    "            r'\\bPOLYVINYL\\s+CHLORIDE\\b': 'PVC',\n",
    "            r'\\bABS\\s+PLASTIC\\b': 'ABS',\n",
    "            \n",
    "            # Finishes\n",
    "            r'\\bPOWDER\\s+COATED\\b': 'PWD CTD',\n",
    "            r'\\bGALVANIZED\\b': 'GALV',\n",
    "            r'\\bELECTRO\\s+GALVANIZED\\b': 'E-GALV',\n",
    "            r'\\bHOT\\s+DIPPED\\s+GALVANIZED\\b': 'HDG',\n",
    "            r'\\bBRUSHED\\s+NICKEL\\b': 'BN',\n",
    "            r'\\bOIL\\s+RUBBED\\s+BRONZE\\b': 'ORB',\n",
    "            \n",
    "            # Hardware\n",
    "            r'\\bCOUNTERSUNK\\b': 'CSK',\n",
    "            r'\\bPHILLIPS\\s+HEAD\\b': 'PH',\n",
    "            r'\\bFLAT\\s+HEAD\\b': 'FH',\n",
    "            r'\\bHEX\\s+HEAD\\b': 'HH',\n",
    "            r'\\bWASHER\\s+HEAD\\b': 'WH',\n",
    "            r'\\bBUTTON\\s+HEAD\\b': 'BH',\n",
    "            \n",
    "            # Common descriptors\n",
    "            r'\\bADJUSTABLE\\b': 'ADJ',\n",
    "            r'\\bHEAVY\\s+DUTY\\b': 'HD',\n",
    "            r'\\bLIGHT\\s+DUTY\\b': 'LD',\n",
    "            r'\\bCOMMERCIAL\\s+GRADE\\b': 'COM GR',\n",
    "            r'\\bINDUSTRIAL\\s+GRADE\\b': 'IND GR',\n",
    "            r'\\bPROFESSIONAL\\s+GRADE\\b': 'PRO GR',\n",
    "            r'\\bWEATHER\\s+RESISTANT\\b': 'WR',\n",
    "            r'\\bWATER\\s+RESISTANT\\b': 'WR',\n",
    "            r'\\bUNIVERSAL\\b': 'UNI',\n",
    "            r'\\bSTANDARD\\b': 'STD',\n",
    "        }\n",
    "        \n",
    "        # Common color codes\n",
    "        self.color_codes = {\n",
    "            r'\\bWHITE\\b': 'WHT',\n",
    "            r'\\bBLACK\\b': 'BLK',\n",
    "            r'\\bBROWN\\b': 'BRN',\n",
    "            r'\\bGRAY\\b|\\bGREY\\b': 'GRY',\n",
    "            r'\\bBEIGE\\b': 'BGE',\n",
    "            r'\\bBRONZE\\b': 'BRZ',\n",
    "            r'\\bCLEAR\\b': 'CLR',\n",
    "            r'\\bNATURAL\\b': 'NAT',\n",
    "        }\n",
    "        \n",
    "        # Updated brands list (expandable)\n",
    "        self.brands = [\n",
    "            'PURDY', 'USG', 'QUIKRETE', 'GORILLA', 'MINWAX', 'DEWALT',\n",
    "            'MILWAUKEE', 'MAKITA', 'BOSCH', 'RYOBI', 'WERNER', '3M',\n",
    "            'SIMPSON', 'HUSKY', 'RIDGID', 'PROJECT SOURCE', 'EZ ANCOR',\n",
    "            'STANLEY', 'IRWIN', 'CRAFTSMAN', 'KLEIN', 'CHANNELLOCK',\n",
    "            'DREMEL', 'ESTWING', 'FESTOOL', 'GRACO', 'HILTI', 'KNIPEX',\n",
    "            'LENOX', 'METABO', 'NORTON', 'PORTER-CABLE', 'SENCO', \n",
    "            'TEKTON', 'WAGNER', 'ZIRCON'\n",
    "        ]\n",
    "\n",
    "    def standardize_measurements(self, text: str) -> str:\n",
    "        \"\"\"Apply measurement standardization patterns\"\"\"\n",
    "        for pattern, replacement in self.measurement_patterns.items():\n",
    "            text = re.sub(pattern, replacement, text, flags=re.IGNORECASE)\n",
    "        return text\n",
    "\n",
    "    def standardize_units(self, text: str) -> str:\n",
    "        \"\"\"Standardize unit representations\"\"\"\n",
    "        for pattern, replacement in self.unit_standardization.items():\n",
    "            text = re.sub(pattern, replacement, text, flags=re.IGNORECASE)\n",
    "        return text\n",
    "\n",
    "    def standardize_construction_terms(self, text: str) -> str:\n",
    "        \"\"\"Standardize common construction terms\"\"\"\n",
    "        for pattern, replacement in self.construction_terms.items():\n",
    "            text = re.sub(pattern, replacement, text, flags=re.IGNORECASE)\n",
    "        return text\n",
    "\n",
    "    def extract_sku(self, text: str) -> Tuple[str, str]:\n",
    "        \"\"\"Extract SKU number from the beginning of description\"\"\"\n",
    "        if pd.isna(text):\n",
    "            return '', ''\n",
    "        \n",
    "        sku_match = re.match(r'^(\\d+)\\s+(.*)', str(text))\n",
    "        if sku_match:\n",
    "            return sku_match.group(1), sku_match.group(2)\n",
    "        return '', text\n",
    "\n",
    "    def clean_description(self, text: str) -> str:\n",
    "        \"\"\"Main cleaning function for item descriptions\"\"\"\n",
    "        if pd.isna(text):\n",
    "            return ''\n",
    "        \n",
    "        # Extract SKU\n",
    "        sku, desc = self.extract_sku(text)\n",
    "        \n",
    "        # Convert to uppercase and clean\n",
    "        desc = desc.upper()\n",
    "        desc = self.standardize_measurements(desc)\n",
    "        desc = self.standardize_units(desc)\n",
    "        desc = self.standardize_construction_terms(desc)\n",
    "        \n",
    "        # Remove special characters and fix spacing\n",
    "        desc = re.sub(r'[^\\w\\s/.\\-X]', '', desc)\n",
    "        desc = re.sub(r'\\s+', ' ', desc).strip()\n",
    "        \n",
    "        # Move brand to start if present\n",
    "        for brand in self.brands:\n",
    "            if brand in desc.upper():\n",
    "                desc = re.sub(rf'{brand}', '', desc, flags=re.IGNORECASE)\n",
    "                desc = f\"{brand} {desc.strip()}\"\n",
    "                break\n",
    "        \n",
    "        return desc.strip()\n",
    "\n",
    "    def process_dataframe(self, df: pd.DataFrame, item_desc_column: str) -> pd.DataFrame:\n",
    "        \"\"\"Process the entire dataframe and add analysis columns\"\"\"\n",
    "        self.logger.info(\"Starting data processing...\")\n",
    "        \n",
    "        # Verify column exists\n",
    "        if item_desc_column not in df.columns:\n",
    "            raise ValueError(f\"Column '{item_desc_column}' not found in dataframe. Available columns: {df.columns.tolist()}\")\n",
    "        \n",
    "        # Create copy to avoid modifying original\n",
    "        df_processed = df.copy()\n",
    "        \n",
    "        # Clean descriptions\n",
    "        self.logger.info(\"Cleaning descriptions...\")\n",
    "        df_processed['Cleaned_Description'] = df_processed[item_desc_column].apply(self.clean_description)\n",
    "        \n",
    "        # Extract SKUs\n",
    "        self.logger.info(\"Extracting SKUs...\")\n",
    "        df_processed['SKU'] = df_processed[item_desc_column].apply(lambda x: self.extract_sku(x)[0])\n",
    "        \n",
    "        # Add analysis columns\n",
    "        self.logger.info(\"Adding analysis columns...\")\n",
    "        df_processed['Duplicate_Group'] = df_processed.groupby('Cleaned_Description').ngroup()\n",
    "        df_processed['Is_Duplicate'] = df_processed.duplicated(subset='Cleaned_Description', keep=False)\n",
    "        \n",
    "        return df_processed\n",
    "\n",
    "print(\"ConstructionItemStandardizer class defined successfully!\")"
   ]
  },
  {
   "cell_type": "markdown",
   "id": "0fcf6c5c-d750-447f-8cfd-bdedd958b666",
   "metadata": {
    "microsoft": {
     "language": "python",
     "language_group": "synapse_pyspark"
    },
    "nteract": {
     "transient": {
      "deleting": false
     }
    }
   },
   "source": [
    "## Process Data\n",
    "Execute the standardization process on the input data and generate results."
   ]
  },
  {
   "cell_type": "code",
   "execution_count": null,
   "id": "a41922d4-f59a-4b2c-bb4d-122ca7cbaae9",
   "metadata": {
    "collapsed": false,
    "microsoft": {
     "language": "python",
     "language_group": "synapse_pyspark"
    }
   },
   "outputs": [],
   "source": [
    "# Initialize standardizer\n",
    "standardizer = ConstructionItemStandardizer()\n",
    "\n",
    "try:\n",
    "    # Read data from Lakehouse\n",
    "    df = spark.table(\"inscope_items_output\").toPandas()\n",
    "    \n",
    "    # Process data\n",
    "    df_processed = standardizer.process_dataframe(df, item_desc_column='item_description')\n",
    "    \n",
    "    # 1. Create table without duplicates (unique items)\n",
    "    df_unique = df_processed.drop_duplicates(subset='Cleaned_Description', keep='first')\n",
    "    spark_df_unique = spark.createDataFrame(df_unique)\n",
    "    \n",
    "    # 2. Create table with only duplicates\n",
    "    df_duplicates = df_processed[df_processed['Is_Duplicate']].sort_values('Duplicate_Group')\n",
    "    spark_df_duplicates = spark.createDataFrame(df_duplicates)\n",
    "    \n",
    "    # Save both tables to Lakehouse\n",
    "    spark_df_unique.write.mode(\"overwrite\").saveAsTable(\"inscope_items_unique\")\n",
    "    spark_df_duplicates.write.mode(\"overwrite\").saveAsTable(\"inscope_items_duplicates\")\n",
    "    \n",
    "    # Print summary statistics\n",
    "    print(\"Summary Statistics:\")\n",
    "    print(\"-\" * 50)\n",
    "    print(f\"Total original items: {len(df_processed):,}\")\n",
    "    print(f\"Unique items: {len(df_unique):,}\")\n",
    "    print(f\"Items with duplicates: {len(df_duplicates):,}\")\n",
    "    print(f\"Number of duplicate groups: {df_duplicates['Duplicate_Group'].nunique():,}\")\n",
    "    \n",
    "    # Display samples of both tables\n",
    "    print(\"\\n1. Sample of Unique Items (no duplicates):\")\n",
    "    print(\"-\" * 50)\n",
    "    display(spark_df_unique.limit(5))\n",
    "    \n",
    "    print(\"\\n2. Sample of Duplicate Items:\")\n",
    "    print(\"-\" * 50)\n",
    "    display(spark_df_duplicates.limit(5))\n",
    "    \n",
    "    # Additional analysis of duplicate groups\n",
    "    print(\"\\nDuplicate Groups Analysis:\")\n",
    "    print(\"-\" * 50)\n",
    "    duplicate_groups = df_duplicates.groupby('Duplicate_Group').agg({\n",
    "        'item_description': 'count',\n",
    "        'Cleaned_Description': 'first'\n",
    "    }).reset_index()\n",
    "    duplicate_groups.columns = ['Group_ID', 'Count', 'Standardized_Description']\n",
    "    duplicate_groups = duplicate_groups.sort_values('Count', ascending=False)\n",
    "    \n",
    "    print(\"\\nTop 5 Most Common Duplicates:\")\n",
    "    display(spark.createDataFrame(duplicate_groups.head()))\n",
    "    \n",
    "except Exception as e:\n",
    "    print(f\"An error occurred: {str(e)}\")"
   ]
  },
  {
   "cell_type": "markdown",
   "id": "fba17591-8c85-4d4e-a843-aa3c60703e8f",
   "metadata": {
    "microsoft": {
     "language": "python",
     "language_group": "synapse_pyspark"
    },
    "nteract": {
     "transient": {
      "deleting": false
     }
    }
   },
   "source": [
    "## Output Tables\n",
    "The process generates two main output tables:\n",
    "1. `standardized_items_advanced`: Complete standardized dataset\n",
    "2. `duplicate_groups`: Groups of similar items for review\n",
    "\n",
    "## Usage Notes\n",
    "- Run cells in sequence\n",
    "- Review the sample outputs for verification\n",
    "- Check logging output for process status\n",
    "- Adjust similarity thresholds if needed\n",
    "\n",
    "## Maintenance\n",
    "To update standardization patterns:\n",
    "1. Modify relevant pattern dictionaries in the standardizer class\n",
    "2. Re-run the notebook to apply changes\n",
    "3. Review results for accuracy"
   ]
  }
 ],
 "metadata": {
  "dependencies": {
   "lakehouse": {
    "default_lakehouse": "c9435ed6-b24a-497d-8c91-4712ebab15aa",
    "default_lakehouse_name": "MAP_LH",
    "default_lakehouse_workspace_id": "f176afa8-9b19-4a91-b235-5e9bc69f1565",
    "known_lakehouses": [
     {
      "id": "c9435ed6-b24a-497d-8c91-4712ebab15aa"
     }
    ]
   }
  },
  "kernel_info": {
   "name": "synapse_pyspark"
  },
  "kernelspec": {
   "display_name": "Synapse PySpark",
   "language": "Python",
   "name": "synapse_pyspark"
  },
  "language_info": {
   "name": "python"
  },
  "microsoft": {
   "language": "python",
   "language_group": "synapse_pyspark",
   "ms_spell_check": {
    "ms_spell_check_language": "en"
   }
  },
  "nteract": {
   "version": "nteract-front-end@1.0.0"
  },
  "spark_compute": {
   "compute_id": "/trident/default",
   "session_options": {
    "conf": {
     "spark.synapse.nbs.session.timeout": "1200000"
    }
   }
  },
  "synapse_widget": {
   "state": {},
   "version": "0.1"
  },
  "widgets": {
   "application/vnd.jupyter.widget-state+json": {
    "state": {
     "004601ff293c4bca9fe5d3e566ea2f47": {
      "model_module": "@jupyter-widgets/controls",
      "model_module_version": "2.0.0",
      "model_name": "HBoxModel",
      "state": {
       "children": [
        "IPY_MODEL_83f802d531954d7faa6955372172ba76",
        "IPY_MODEL_c39febd2c3284a7abbc842f840ea5e79",
        "IPY_MODEL_e3bb740e45784afc99e293cf3488ce3f"
       ],
       "layout": "IPY_MODEL_64cbcfa3a60f434999cc93e9b5e98a0f"
      }
     },
     "02e32b1bcad34ae6b7ef6b30dc967daf": {
      "model_module": "@jupyter-widgets/controls",
      "model_module_version": "2.0.0",
      "model_name": "ProgressStyleModel",
      "state": {
       "description_width": ""
      }
     },
     "0654a873bb9747c594596fa05646d6a9": {
      "model_module": "@jupyter-widgets/base",
      "model_module_version": "2.0.0",
      "model_name": "LayoutModel",
      "state": {}
     },
     "07b8cef10ed743e5bd7f0efa68bf8f73": {
      "model_module": "@jupyter-widgets/controls",
      "model_module_version": "2.0.0",
      "model_name": "HTMLModel",
      "state": {
       "layout": "IPY_MODEL_f305c29918bb4c61866bef3a0b4836c1",
       "style": "IPY_MODEL_2e735793a2464bae9777398821ec8173",
       "value": "README.md: 100%"
      }
     },
     "0d055be7b8ee4c23b35fc6a110ca8de5": {
      "model_module": "@jupyter-widgets/controls",
      "model_module_version": "2.0.0",
      "model_name": "HTMLStyleModel",
      "state": {
       "description_width": "",
       "font_size": null,
       "text_color": null
      }
     },
     "0e9933be418941de92df809632084b71": {
      "model_module": "@jupyter-widgets/base",
      "model_module_version": "2.0.0",
      "model_name": "LayoutModel",
      "state": {}
     },
     "0faec548124d4b92a70a2b062d22c791": {
      "model_module": "@jupyter-widgets/controls",
      "model_module_version": "2.0.0",
      "model_name": "HTMLModel",
      "state": {
       "layout": "IPY_MODEL_61a25d101dae4405bd9e2a81b12e797d",
       "style": "IPY_MODEL_e477978f25b041ca8eaed7704741a63c",
       "value": " 232k/232k [00:00&lt;00:00, 37.0MB/s]"
      }
     },
     "1332c12411494648b82d4b356668ee97": {
      "model_module": "@jupyter-widgets/base",
      "model_module_version": "2.0.0",
      "model_name": "LayoutModel",
      "state": {}
     },
     "1612418184e44aaab15993e5bf4f57d8": {
      "model_module": "@jupyter-widgets/controls",
      "model_module_version": "2.0.0",
      "model_name": "HTMLModel",
      "state": {
       "layout": "IPY_MODEL_cf5002e69ce644b88cfc4be3c8352b2c",
       "style": "IPY_MODEL_951fc037b04a4f7ea83dea320fad264c",
       "value": "model.safetensors: 100%"
      }
     },
     "183abf6677e04227929cdb9ff4f01d14": {
      "model_module": "@jupyter-widgets/controls",
      "model_module_version": "2.0.0",
      "model_name": "HTMLStyleModel",
      "state": {
       "description_width": "",
       "font_size": null,
       "text_color": null
      }
     },
     "193298e0bcff44a4a8f04be405771bc7": {
      "model_module": "@jupyter-widgets/controls",
      "model_module_version": "2.0.0",
      "model_name": "FloatProgressModel",
      "state": {
       "bar_style": "success",
       "layout": "IPY_MODEL_c2a0391141874e93abcaee944bdc353a",
       "max": 349,
       "style": "IPY_MODEL_84ee3fbad9764418b8a5b97a39e29b09",
       "value": 349
      }
     },
     "1a7a80683e0b46faa2df448be5d0f879": {
      "model_module": "@jupyter-widgets/controls",
      "model_module_version": "2.0.0",
      "model_name": "HTMLStyleModel",
      "state": {
       "description_width": "",
       "font_size": null,
       "text_color": null
      }
     },
     "1d77741e07d84c3a8791a626aab5cbeb": {
      "model_module": "@jupyter-widgets/base",
      "model_module_version": "2.0.0",
      "model_name": "LayoutModel",
      "state": {}
     },
     "212ce2482c054c42a04b5810a592c649": {
      "model_module": "@jupyter-widgets/controls",
      "model_module_version": "2.0.0",
      "model_name": "HBoxModel",
      "state": {
       "children": [
        "IPY_MODEL_34383d6dc51c46cfa614b96777914226",
        "IPY_MODEL_e98f5f68015a4db298bd1d1174190c68",
        "IPY_MODEL_0faec548124d4b92a70a2b062d22c791"
       ],
       "layout": "IPY_MODEL_f6c815ff4a6a4c4cac5c0dcdd9f97459"
      }
     },
     "227799fc3445468481a825227efdcaed": {
      "model_module": "@jupyter-widgets/controls",
      "model_module_version": "2.0.0",
      "model_name": "HTMLModel",
      "state": {
       "layout": "IPY_MODEL_ee9c7bd48bc34276bd52db3d6b88b22b",
       "style": "IPY_MODEL_56d76b0616544332b04f5851e400fcc3",
       "value": "config.json: 100%"
      }
     },
     "22e505daf7a3461db67c7587783f71ad": {
      "model_module": "@jupyter-widgets/controls",
      "model_module_version": "2.0.0",
      "model_name": "HTMLModel",
      "state": {
       "layout": "IPY_MODEL_b0a06cdc90544ea7b1b8903cd5967d33",
       "style": "IPY_MODEL_33c2fc0d808e4799bcac6f7b9f5804b5",
       "value": " 10.7k/10.7k [00:00&lt;00:00, 2.20MB/s]"
      }
     },
     "25298ace63334babb5aea2418ff6105b": {
      "model_module": "@jupyter-widgets/controls",
      "model_module_version": "2.0.0",
      "model_name": "HTMLStyleModel",
      "state": {
       "description_width": "",
       "font_size": null,
       "text_color": null
      }
     },
     "26a8ec99f7a647a6a3738cc8a1f7f848": {
      "model_module": "@jupyter-widgets/controls",
      "model_module_version": "2.0.0",
      "model_name": "ProgressStyleModel",
      "state": {
       "description_width": ""
      }
     },
     "2a3e3bb6d5c84410aaaa18ec987bcd4f": {
      "model_module": "@jupyter-widgets/controls",
      "model_module_version": "2.0.0",
      "model_name": "HTMLModel",
      "state": {
       "layout": "IPY_MODEL_0654a873bb9747c594596fa05646d6a9",
       "style": "IPY_MODEL_8326006fcc884802a2f871051b5485a8",
       "value": "1_Pooling%2Fconfig.json: 100%"
      }
     },
     "2c8c9bde64bd4d8faddf69c5cf3ce70d": {
      "model_module": "@jupyter-widgets/controls",
      "model_module_version": "2.0.0",
      "model_name": "ProgressStyleModel",
      "state": {
       "description_width": ""
      }
     },
     "2d96370ba5644bb788ca3433b8f226e8": {
      "model_module": "@jupyter-widgets/base",
      "model_module_version": "2.0.0",
      "model_name": "LayoutModel",
      "state": {}
     },
     "2e1be16dd6124509958b4495cdfe0cdb": {
      "model_module": "@jupyter-widgets/base",
      "model_module_version": "2.0.0",
      "model_name": "LayoutModel",
      "state": {}
     },
     "2e735793a2464bae9777398821ec8173": {
      "model_module": "@jupyter-widgets/controls",
      "model_module_version": "2.0.0",
      "model_name": "HTMLStyleModel",
      "state": {
       "description_width": "",
       "font_size": null,
       "text_color": null
      }
     },
     "31d8abe42e5d41449753a9df9ba809e6": {
      "model_module": "@jupyter-widgets/base",
      "model_module_version": "2.0.0",
      "model_name": "LayoutModel",
      "state": {}
     },
     "33c2fc0d808e4799bcac6f7b9f5804b5": {
      "model_module": "@jupyter-widgets/controls",
      "model_module_version": "2.0.0",
      "model_name": "HTMLStyleModel",
      "state": {
       "description_width": "",
       "font_size": null,
       "text_color": null
      }
     },
     "34383d6dc51c46cfa614b96777914226": {
      "model_module": "@jupyter-widgets/controls",
      "model_module_version": "2.0.0",
      "model_name": "HTMLModel",
      "state": {
       "layout": "IPY_MODEL_f672df6e561544d9b019d1350f707f9c",
       "style": "IPY_MODEL_3b94314d70664096bf69b6bd64bb6a5b",
       "value": "vocab.txt: 100%"
      }
     },
     "3608dea98a264baeb592665d3f6f5c22": {
      "model_module": "@jupyter-widgets/base",
      "model_module_version": "2.0.0",
      "model_name": "LayoutModel",
      "state": {}
     },
     "3a19d9c2ef344f2094ef7fbb03a6f46a": {
      "model_module": "@jupyter-widgets/base",
      "model_module_version": "2.0.0",
      "model_name": "LayoutModel",
      "state": {}
     },
     "3af9bc2cacc949e382cb1b58afa5a9db": {
      "model_module": "@jupyter-widgets/controls",
      "model_module_version": "2.0.0",
      "model_name": "HTMLStyleModel",
      "state": {
       "description_width": "",
       "font_size": null,
       "text_color": null
      }
     },
     "3b94314d70664096bf69b6bd64bb6a5b": {
      "model_module": "@jupyter-widgets/controls",
      "model_module_version": "2.0.0",
      "model_name": "HTMLStyleModel",
      "state": {
       "description_width": "",
       "font_size": null,
       "text_color": null
      }
     },
     "3cc420e607d14160ab6efadea482f8dd": {
      "model_module": "@jupyter-widgets/controls",
      "model_module_version": "2.0.0",
      "model_name": "HBoxModel",
      "state": {
       "children": [
        "IPY_MODEL_e25de063f314451da17bf23934f85137",
        "IPY_MODEL_c2d8e9872c06468d997beb984a2ef609",
        "IPY_MODEL_ac021e08fc634bb8ba285768fdbc46b8"
       ],
       "layout": "IPY_MODEL_bf2fe9204a1b487c90780418ddf144b9"
      }
     },
     "4188fad7f9b84886a1f8f9ceb943e903": {
      "model_module": "@jupyter-widgets/controls",
      "model_module_version": "2.0.0",
      "model_name": "HTMLStyleModel",
      "state": {
       "description_width": "",
       "font_size": null,
       "text_color": null
      }
     },
     "435facaa096449daa264664c284623cf": {
      "model_module": "@jupyter-widgets/base",
      "model_module_version": "2.0.0",
      "model_name": "LayoutModel",
      "state": {}
     },
     "440ad8de29e048c0b82a1ba57ed014a5": {
      "model_module": "@jupyter-widgets/controls",
      "model_module_version": "2.0.0",
      "model_name": "ProgressStyleModel",
      "state": {
       "description_width": ""
      }
     },
     "4505e4142ae447dd943b13f315d1d38c": {
      "model_module": "@jupyter-widgets/base",
      "model_module_version": "2.0.0",
      "model_name": "LayoutModel",
      "state": {}
     },
     "46f37c38ab3146aba37fb5b9e401542c": {
      "model_module": "@jupyter-widgets/base",
      "model_module_version": "2.0.0",
      "model_name": "LayoutModel",
      "state": {}
     },
     "47a0b64ac9444718af0efc5309cac484": {
      "model_module": "@jupyter-widgets/base",
      "model_module_version": "2.0.0",
      "model_name": "LayoutModel",
      "state": {}
     },
     "47bc3f238c3c471ab8e10243d1b871d6": {
      "model_module": "@jupyter-widgets/controls",
      "model_module_version": "2.0.0",
      "model_name": "ProgressStyleModel",
      "state": {
       "description_width": ""
      }
     },
     "564b551841b44008bcde73a84f56abbf": {
      "model_module": "@jupyter-widgets/controls",
      "model_module_version": "2.0.0",
      "model_name": "HBoxModel",
      "state": {
       "children": [
        "IPY_MODEL_c75120a928754d2cb525e52c7da447f7",
        "IPY_MODEL_cdf680ec9bf7453f9259463f8e10464c",
        "IPY_MODEL_a2aa0b6125894820b46ee0bc6b037f1a"
       ],
       "layout": "IPY_MODEL_ab663b19fcda41bc803ee2594847b4cc"
      }
     },
     "56d76b0616544332b04f5851e400fcc3": {
      "model_module": "@jupyter-widgets/controls",
      "model_module_version": "2.0.0",
      "model_name": "HTMLStyleModel",
      "state": {
       "description_width": "",
       "font_size": null,
       "text_color": null
      }
     },
     "5d7244b9a5724fa19418d87873dcb540": {
      "model_module": "@jupyter-widgets/base",
      "model_module_version": "2.0.0",
      "model_name": "LayoutModel",
      "state": {}
     },
     "5efbbf8b0bc94c449ff0725df5cf7707": {
      "model_module": "@jupyter-widgets/controls",
      "model_module_version": "2.0.0",
      "model_name": "HTMLStyleModel",
      "state": {
       "description_width": "",
       "font_size": null,
       "text_color": null
      }
     },
     "5f7e31d2da8a4e51881dd9f22bc5194e": {
      "model_module": "@jupyter-widgets/base",
      "model_module_version": "2.0.0",
      "model_name": "LayoutModel",
      "state": {}
     },
     "6035263381224eeea7f7d3a7d7327de3": {
      "model_module": "@jupyter-widgets/controls",
      "model_module_version": "2.0.0",
      "model_name": "FloatProgressModel",
      "state": {
       "bar_style": "success",
       "layout": "IPY_MODEL_e652888a29a444bda6a4d73c7a37d189",
       "max": 612,
       "style": "IPY_MODEL_c835e59c2e3941699d8c2650ebd039c6",
       "value": 612
      }
     },
     "61a25d101dae4405bd9e2a81b12e797d": {
      "model_module": "@jupyter-widgets/base",
      "model_module_version": "2.0.0",
      "model_name": "LayoutModel",
      "state": {}
     },
     "640acb0840a44a3c9e267213ea6bff77": {
      "model_module": "@jupyter-widgets/controls",
      "model_module_version": "2.0.0",
      "model_name": "ProgressStyleModel",
      "state": {
       "description_width": ""
      }
     },
     "64cbcfa3a60f434999cc93e9b5e98a0f": {
      "model_module": "@jupyter-widgets/base",
      "model_module_version": "2.0.0",
      "model_name": "LayoutModel",
      "state": {}
     },
     "68f82d7632ef46e586b7dd9b2a159031": {
      "model_module": "@jupyter-widgets/controls",
      "model_module_version": "2.0.0",
      "model_name": "HTMLStyleModel",
      "state": {
       "description_width": "",
       "font_size": null,
       "text_color": null
      }
     },
     "6ac1442adb434c74ad804c752361033e": {
      "model_module": "@jupyter-widgets/controls",
      "model_module_version": "2.0.0",
      "model_name": "HBoxModel",
      "state": {
       "children": [
        "IPY_MODEL_1612418184e44aaab15993e5bf4f57d8",
        "IPY_MODEL_778aa457945647b6a6f1879251a655ab",
        "IPY_MODEL_9766766628c1436a846424d1a1867f1b"
       ],
       "layout": "IPY_MODEL_2d96370ba5644bb788ca3433b8f226e8"
      }
     },
     "6b68ce3962234ee68086d57133d2a282": {
      "model_module": "@jupyter-widgets/controls",
      "model_module_version": "2.0.0",
      "model_name": "HTMLModel",
      "state": {
       "layout": "IPY_MODEL_cdbf6aa19a4c4615ac221262d26b9ca0",
       "style": "IPY_MODEL_b78a043044bb4ed3a22e383d8c732fce",
       "value": " 349/349 [00:00&lt;00:00, 65.1kB/s]"
      }
     },
     "6f8dc096f4f9411bbe3afb2c8a1ecf22": {
      "model_module": "@jupyter-widgets/controls",
      "model_module_version": "2.0.0",
      "model_name": "HTMLModel",
      "state": {
       "layout": "IPY_MODEL_47a0b64ac9444718af0efc5309cac484",
       "style": "IPY_MODEL_7413c19a36414c889563a4ec7ff3d671",
       "value": " 116/116 [00:00&lt;00:00, 23.6kB/s]"
      }
     },
     "7413c19a36414c889563a4ec7ff3d671": {
      "model_module": "@jupyter-widgets/controls",
      "model_module_version": "2.0.0",
      "model_name": "HTMLStyleModel",
      "state": {
       "description_width": "",
       "font_size": null,
       "text_color": null
      }
     },
     "778aa457945647b6a6f1879251a655ab": {
      "model_module": "@jupyter-widgets/controls",
      "model_module_version": "2.0.0",
      "model_name": "FloatProgressModel",
      "state": {
       "bar_style": "success",
       "layout": "IPY_MODEL_4505e4142ae447dd943b13f315d1d38c",
       "max": 90868376,
       "style": "IPY_MODEL_fef1682dd46b4e60b7a24d2c22bdd103",
       "value": 90868376
      }
     },
     "7d03d213160d480e9955f3fde8a2fa75": {
      "model_module": "@jupyter-widgets/base",
      "model_module_version": "2.0.0",
      "model_name": "LayoutModel",
      "state": {}
     },
     "7e05c65ad5f7444491326abc750ff3ac": {
      "model_module": "@jupyter-widgets/controls",
      "model_module_version": "2.0.0",
      "model_name": "ProgressStyleModel",
      "state": {
       "description_width": ""
      }
     },
     "8326006fcc884802a2f871051b5485a8": {
      "model_module": "@jupyter-widgets/controls",
      "model_module_version": "2.0.0",
      "model_name": "HTMLStyleModel",
      "state": {
       "description_width": "",
       "font_size": null,
       "text_color": null
      }
     },
     "83f802d531954d7faa6955372172ba76": {
      "model_module": "@jupyter-widgets/controls",
      "model_module_version": "2.0.0",
      "model_name": "HTMLModel",
      "state": {
       "layout": "IPY_MODEL_5f7e31d2da8a4e51881dd9f22bc5194e",
       "style": "IPY_MODEL_c9ee7945047a44d5b80f129c26ce943e",
       "value": "tokenizer.json: 100%"
      }
     },
     "84ee3fbad9764418b8a5b97a39e29b09": {
      "model_module": "@jupyter-widgets/controls",
      "model_module_version": "2.0.0",
      "model_name": "ProgressStyleModel",
      "state": {
       "description_width": ""
      }
     },
     "86e1079820bc406187fc4eb767a43b1f": {
      "model_module": "@jupyter-widgets/controls",
      "model_module_version": "2.0.0",
      "model_name": "HBoxModel",
      "state": {
       "children": [
        "IPY_MODEL_ce5a3f2c12b0445a9b51d3283f4e9b3d",
        "IPY_MODEL_193298e0bcff44a4a8f04be405771bc7",
        "IPY_MODEL_6b68ce3962234ee68086d57133d2a282"
       ],
       "layout": "IPY_MODEL_31d8abe42e5d41449753a9df9ba809e6"
      }
     },
     "8e1c0fbb01214a80bd4b970bdea7d29a": {
      "model_module": "@jupyter-widgets/controls",
      "model_module_version": "2.0.0",
      "model_name": "HTMLStyleModel",
      "state": {
       "description_width": "",
       "font_size": null,
       "text_color": null
      }
     },
     "92de792dc81f4195b82c89160bc35857": {
      "model_module": "@jupyter-widgets/controls",
      "model_module_version": "2.0.0",
      "model_name": "FloatProgressModel",
      "state": {
       "bar_style": "success",
       "layout": "IPY_MODEL_ecdae0bfae68420685d04aa18cf27d1a",
       "max": 116,
       "style": "IPY_MODEL_02e32b1bcad34ae6b7ef6b30dc967daf",
       "value": 116
      }
     },
     "951fc037b04a4f7ea83dea320fad264c": {
      "model_module": "@jupyter-widgets/controls",
      "model_module_version": "2.0.0",
      "model_name": "HTMLStyleModel",
      "state": {
       "description_width": "",
       "font_size": null,
       "text_color": null
      }
     },
     "9766766628c1436a846424d1a1867f1b": {
      "model_module": "@jupyter-widgets/controls",
      "model_module_version": "2.0.0",
      "model_name": "HTMLModel",
      "state": {
       "layout": "IPY_MODEL_fb5c0487be6049109de1cc8fe6154274",
       "style": "IPY_MODEL_5efbbf8b0bc94c449ff0725df5cf7707",
       "value": " 90.9M/90.9M [00:00&lt;00:00, 229MB/s]"
      }
     },
     "9799c808e8b242fbbf38a723e27ead16": {
      "model_module": "@jupyter-widgets/controls",
      "model_module_version": "2.0.0",
      "model_name": "ProgressStyleModel",
      "state": {
       "description_width": ""
      }
     },
     "98d2e57cafe34b4f8b973bae8f28fd82": {
      "model_module": "@jupyter-widgets/base",
      "model_module_version": "2.0.0",
      "model_name": "LayoutModel",
      "state": {}
     },
     "99bdbb6a063540189e9eafe1462c768f": {
      "model_module": "@jupyter-widgets/base",
      "model_module_version": "2.0.0",
      "model_name": "LayoutModel",
      "state": {}
     },
     "9d96c7b28d754cbe9bb4b5fcadbf0933": {
      "model_module": "@jupyter-widgets/controls",
      "model_module_version": "2.0.0",
      "model_name": "HBoxModel",
      "state": {
       "children": [
        "IPY_MODEL_d32fc780d59b45ae8a0ef24dcfcf1d7b",
        "IPY_MODEL_92de792dc81f4195b82c89160bc35857",
        "IPY_MODEL_6f8dc096f4f9411bbe3afb2c8a1ecf22"
       ],
       "layout": "IPY_MODEL_435facaa096449daa264664c284623cf"
      }
     },
     "a2aa0b6125894820b46ee0bc6b037f1a": {
      "model_module": "@jupyter-widgets/controls",
      "model_module_version": "2.0.0",
      "model_name": "HTMLModel",
      "state": {
       "layout": "IPY_MODEL_3a19d9c2ef344f2094ef7fbb03a6f46a",
       "style": "IPY_MODEL_e128bede1f9c40c6a531aac4ab65790f",
       "value": " 350/350 [00:00&lt;00:00, 63.3kB/s]"
      }
     },
     "a422e271251c4849ac28dde57197881a": {
      "model_module": "@jupyter-widgets/controls",
      "model_module_version": "2.0.0",
      "model_name": "HTMLModel",
      "state": {
       "layout": "IPY_MODEL_99bdbb6a063540189e9eafe1462c768f",
       "style": "IPY_MODEL_8e1c0fbb01214a80bd4b970bdea7d29a",
       "value": "sentence_bert_config.json: 100%"
      }
     },
     "a75504242205495ca04a193482ebb8ee": {
      "model_module": "@jupyter-widgets/controls",
      "model_module_version": "2.0.0",
      "model_name": "HTMLModel",
      "state": {
       "layout": "IPY_MODEL_98d2e57cafe34b4f8b973bae8f28fd82",
       "style": "IPY_MODEL_183abf6677e04227929cdb9ff4f01d14",
       "value": " 190/190 [00:00&lt;00:00, 43.5kB/s]"
      }
     },
     "ab663b19fcda41bc803ee2594847b4cc": {
      "model_module": "@jupyter-widgets/base",
      "model_module_version": "2.0.0",
      "model_name": "LayoutModel",
      "state": {}
     },
     "ab9b3ce19d9248f38f6fcfb983c2de49": {
      "model_module": "@jupyter-widgets/base",
      "model_module_version": "2.0.0",
      "model_name": "LayoutModel",
      "state": {}
     },
     "ac021e08fc634bb8ba285768fdbc46b8": {
      "model_module": "@jupyter-widgets/controls",
      "model_module_version": "2.0.0",
      "model_name": "HTMLModel",
      "state": {
       "layout": "IPY_MODEL_0e9933be418941de92df809632084b71",
       "style": "IPY_MODEL_25298ace63334babb5aea2418ff6105b",
       "value": " 112/112 [00:00&lt;00:00, 23.4kB/s]"
      }
     },
     "ae953de7b62445548e7b9583db96260c": {
      "model_module": "@jupyter-widgets/base",
      "model_module_version": "2.0.0",
      "model_name": "LayoutModel",
      "state": {}
     },
     "aea1d0895a9a45738353d3c33f0fe3fa": {
      "model_module": "@jupyter-widgets/base",
      "model_module_version": "2.0.0",
      "model_name": "LayoutModel",
      "state": {}
     },
     "b0a06cdc90544ea7b1b8903cd5967d33": {
      "model_module": "@jupyter-widgets/base",
      "model_module_version": "2.0.0",
      "model_name": "LayoutModel",
      "state": {}
     },
     "b0fafd4027f348888aa6982b6f645988": {
      "model_module": "@jupyter-widgets/controls",
      "model_module_version": "2.0.0",
      "model_name": "HTMLModel",
      "state": {
       "layout": "IPY_MODEL_1d77741e07d84c3a8791a626aab5cbeb",
       "style": "IPY_MODEL_0d055be7b8ee4c23b35fc6a110ca8de5",
       "value": " 612/612 [00:00&lt;00:00, 127kB/s]"
      }
     },
     "b6530097183f49cd86ab726bcfd1c065": {
      "model_module": "@jupyter-widgets/controls",
      "model_module_version": "2.0.0",
      "model_name": "HBoxModel",
      "state": {
       "children": [
        "IPY_MODEL_227799fc3445468481a825227efdcaed",
        "IPY_MODEL_6035263381224eeea7f7d3a7d7327de3",
        "IPY_MODEL_b0fafd4027f348888aa6982b6f645988"
       ],
       "layout": "IPY_MODEL_46f37c38ab3146aba37fb5b9e401542c"
      }
     },
     "b78a043044bb4ed3a22e383d8c732fce": {
      "model_module": "@jupyter-widgets/controls",
      "model_module_version": "2.0.0",
      "model_name": "HTMLStyleModel",
      "state": {
       "description_width": "",
       "font_size": null,
       "text_color": null
      }
     },
     "ba77ae79a0724a78835f8759fec40043": {
      "model_module": "@jupyter-widgets/base",
      "model_module_version": "2.0.0",
      "model_name": "LayoutModel",
      "state": {}
     },
     "be27b47800024ead80c65a7b44c64b34": {
      "model_module": "@jupyter-widgets/controls",
      "model_module_version": "2.0.0",
      "model_name": "HBoxModel",
      "state": {
       "children": [
        "IPY_MODEL_07b8cef10ed743e5bd7f0efa68bf8f73",
        "IPY_MODEL_c006b44c4cbc4a8492ea0f7abceaf5cc",
        "IPY_MODEL_22e505daf7a3461db67c7587783f71ad"
       ],
       "layout": "IPY_MODEL_e799c7baaecb464eaec71e7c3d94af2a"
      }
     },
     "bf2fe9204a1b487c90780418ddf144b9": {
      "model_module": "@jupyter-widgets/base",
      "model_module_version": "2.0.0",
      "model_name": "LayoutModel",
      "state": {}
     },
     "c006b44c4cbc4a8492ea0f7abceaf5cc": {
      "model_module": "@jupyter-widgets/controls",
      "model_module_version": "2.0.0",
      "model_name": "FloatProgressModel",
      "state": {
       "bar_style": "success",
       "layout": "IPY_MODEL_eb6e2c91b45345c4a5ed5fd3fac01683",
       "max": 10659,
       "style": "IPY_MODEL_26a8ec99f7a647a6a3738cc8a1f7f848",
       "value": 10659
      }
     },
     "c2a0391141874e93abcaee944bdc353a": {
      "model_module": "@jupyter-widgets/base",
      "model_module_version": "2.0.0",
      "model_name": "LayoutModel",
      "state": {}
     },
     "c2d8e9872c06468d997beb984a2ef609": {
      "model_module": "@jupyter-widgets/controls",
      "model_module_version": "2.0.0",
      "model_name": "FloatProgressModel",
      "state": {
       "bar_style": "success",
       "layout": "IPY_MODEL_c5026001532d4d5c9680fcc900d55dc2",
       "max": 112,
       "style": "IPY_MODEL_440ad8de29e048c0b82a1ba57ed014a5",
       "value": 112
      }
     },
     "c3457e43e9a84104847d5b8a4743108b": {
      "model_module": "@jupyter-widgets/controls",
      "model_module_version": "2.0.0",
      "model_name": "FloatProgressModel",
      "state": {
       "layout": "IPY_MODEL_f4e457abb07e43f4a4627d053c53847d",
       "max": 190,
       "style": "IPY_MODEL_7e05c65ad5f7444491326abc750ff3ac"
      }
     },
     "c39febd2c3284a7abbc842f840ea5e79": {
      "model_module": "@jupyter-widgets/controls",
      "model_module_version": "2.0.0",
      "model_name": "FloatProgressModel",
      "state": {
       "bar_style": "success",
       "layout": "IPY_MODEL_7d03d213160d480e9955f3fde8a2fa75",
       "max": 466247,
       "style": "IPY_MODEL_2c8c9bde64bd4d8faddf69c5cf3ce70d",
       "value": 466247
      }
     },
     "c5026001532d4d5c9680fcc900d55dc2": {
      "model_module": "@jupyter-widgets/base",
      "model_module_version": "2.0.0",
      "model_name": "LayoutModel",
      "state": {}
     },
     "c5eef7196a0042e79b54263c0b20135f": {
      "model_module": "@jupyter-widgets/controls",
      "model_module_version": "2.0.0",
      "model_name": "HBoxModel",
      "state": {
       "children": [
        "IPY_MODEL_a422e271251c4849ac28dde57197881a",
        "IPY_MODEL_ccb9425c6f044554b66f25f57fca44d3",
        "IPY_MODEL_d67f155763154afab5349722e4f1a82f"
       ],
       "layout": "IPY_MODEL_5d7244b9a5724fa19418d87873dcb540"
      }
     },
     "c75120a928754d2cb525e52c7da447f7": {
      "model_module": "@jupyter-widgets/controls",
      "model_module_version": "2.0.0",
      "model_name": "HTMLModel",
      "state": {
       "layout": "IPY_MODEL_aea1d0895a9a45738353d3c33f0fe3fa",
       "style": "IPY_MODEL_68f82d7632ef46e586b7dd9b2a159031",
       "value": "tokenizer_config.json: 100%"
      }
     },
     "c835e59c2e3941699d8c2650ebd039c6": {
      "model_module": "@jupyter-widgets/controls",
      "model_module_version": "2.0.0",
      "model_name": "ProgressStyleModel",
      "state": {
       "description_width": ""
      }
     },
     "c9ee7945047a44d5b80f129c26ce943e": {
      "model_module": "@jupyter-widgets/controls",
      "model_module_version": "2.0.0",
      "model_name": "HTMLStyleModel",
      "state": {
       "description_width": "",
       "font_size": null,
       "text_color": null
      }
     },
     "ccb9425c6f044554b66f25f57fca44d3": {
      "model_module": "@jupyter-widgets/controls",
      "model_module_version": "2.0.0",
      "model_name": "FloatProgressModel",
      "state": {
       "bar_style": "success",
       "layout": "IPY_MODEL_efada78b077d43aba4e51a22f4638733",
       "max": 53,
       "style": "IPY_MODEL_47bc3f238c3c471ab8e10243d1b871d6",
       "value": 53
      }
     },
     "cdbf6aa19a4c4615ac221262d26b9ca0": {
      "model_module": "@jupyter-widgets/base",
      "model_module_version": "2.0.0",
      "model_name": "LayoutModel",
      "state": {}
     },
     "cdf680ec9bf7453f9259463f8e10464c": {
      "model_module": "@jupyter-widgets/controls",
      "model_module_version": "2.0.0",
      "model_name": "FloatProgressModel",
      "state": {
       "bar_style": "success",
       "layout": "IPY_MODEL_fe164787f691490c9aea741190a9bb43",
       "max": 350,
       "style": "IPY_MODEL_9799c808e8b242fbbf38a723e27ead16",
       "value": 350
      }
     },
     "ce5a3f2c12b0445a9b51d3283f4e9b3d": {
      "model_module": "@jupyter-widgets/controls",
      "model_module_version": "2.0.0",
      "model_name": "HTMLModel",
      "state": {
       "layout": "IPY_MODEL_1332c12411494648b82d4b356668ee97",
       "style": "IPY_MODEL_ee7a6173d8d543b6a1fbc60828f17385",
       "value": "modules.json: 100%"
      }
     },
     "cf5002e69ce644b88cfc4be3c8352b2c": {
      "model_module": "@jupyter-widgets/base",
      "model_module_version": "2.0.0",
      "model_name": "LayoutModel",
      "state": {}
     },
     "d32fc780d59b45ae8a0ef24dcfcf1d7b": {
      "model_module": "@jupyter-widgets/controls",
      "model_module_version": "2.0.0",
      "model_name": "HTMLModel",
      "state": {
       "layout": "IPY_MODEL_3608dea98a264baeb592665d3f6f5c22",
       "style": "IPY_MODEL_e12cba6108734f2893e5b4ec11d633b9",
       "value": "config_sentence_transformers.json: 100%"
      }
     },
     "d4b18fa0ca2a4367a78238ead81d32b5": {
      "model_module": "@jupyter-widgets/controls",
      "model_module_version": "2.0.0",
      "model_name": "HBoxModel",
      "state": {
       "children": [
        "IPY_MODEL_2a3e3bb6d5c84410aaaa18ec987bcd4f",
        "IPY_MODEL_c3457e43e9a84104847d5b8a4743108b",
        "IPY_MODEL_a75504242205495ca04a193482ebb8ee"
       ],
       "layout": "IPY_MODEL_ae953de7b62445548e7b9583db96260c"
      }
     },
     "d67f155763154afab5349722e4f1a82f": {
      "model_module": "@jupyter-widgets/controls",
      "model_module_version": "2.0.0",
      "model_name": "HTMLModel",
      "state": {
       "layout": "IPY_MODEL_2e1be16dd6124509958b4495cdfe0cdb",
       "style": "IPY_MODEL_1a7a80683e0b46faa2df448be5d0f879",
       "value": " 53.0/53.0 [00:00&lt;00:00, 11.4kB/s]"
      }
     },
     "e128bede1f9c40c6a531aac4ab65790f": {
      "model_module": "@jupyter-widgets/controls",
      "model_module_version": "2.0.0",
      "model_name": "HTMLStyleModel",
      "state": {
       "description_width": "",
       "font_size": null,
       "text_color": null
      }
     },
     "e12cba6108734f2893e5b4ec11d633b9": {
      "model_module": "@jupyter-widgets/controls",
      "model_module_version": "2.0.0",
      "model_name": "HTMLStyleModel",
      "state": {
       "description_width": "",
       "font_size": null,
       "text_color": null
      }
     },
     "e25de063f314451da17bf23934f85137": {
      "model_module": "@jupyter-widgets/controls",
      "model_module_version": "2.0.0",
      "model_name": "HTMLModel",
      "state": {
       "layout": "IPY_MODEL_ba77ae79a0724a78835f8759fec40043",
       "style": "IPY_MODEL_4188fad7f9b84886a1f8f9ceb943e903",
       "value": "special_tokens_map.json: 100%"
      }
     },
     "e3bb740e45784afc99e293cf3488ce3f": {
      "model_module": "@jupyter-widgets/controls",
      "model_module_version": "2.0.0",
      "model_name": "HTMLModel",
      "state": {
       "layout": "IPY_MODEL_e8149a079b4d42aea583651938d136bc",
       "style": "IPY_MODEL_3af9bc2cacc949e382cb1b58afa5a9db",
       "value": " 466k/466k [00:00&lt;00:00, 23.4MB/s]"
      }
     },
     "e477978f25b041ca8eaed7704741a63c": {
      "model_module": "@jupyter-widgets/controls",
      "model_module_version": "2.0.0",
      "model_name": "HTMLStyleModel",
      "state": {
       "description_width": "",
       "font_size": null,
       "text_color": null
      }
     },
     "e652888a29a444bda6a4d73c7a37d189": {
      "model_module": "@jupyter-widgets/base",
      "model_module_version": "2.0.0",
      "model_name": "LayoutModel",
      "state": {}
     },
     "e799c7baaecb464eaec71e7c3d94af2a": {
      "model_module": "@jupyter-widgets/base",
      "model_module_version": "2.0.0",
      "model_name": "LayoutModel",
      "state": {}
     },
     "e8149a079b4d42aea583651938d136bc": {
      "model_module": "@jupyter-widgets/base",
      "model_module_version": "2.0.0",
      "model_name": "LayoutModel",
      "state": {}
     },
     "e98f5f68015a4db298bd1d1174190c68": {
      "model_module": "@jupyter-widgets/controls",
      "model_module_version": "2.0.0",
      "model_name": "FloatProgressModel",
      "state": {
       "bar_style": "success",
       "layout": "IPY_MODEL_ab9b3ce19d9248f38f6fcfb983c2de49",
       "max": 231508,
       "style": "IPY_MODEL_640acb0840a44a3c9e267213ea6bff77",
       "value": 231508
      }
     },
     "eb6e2c91b45345c4a5ed5fd3fac01683": {
      "model_module": "@jupyter-widgets/base",
      "model_module_version": "2.0.0",
      "model_name": "LayoutModel",
      "state": {}
     },
     "ecdae0bfae68420685d04aa18cf27d1a": {
      "model_module": "@jupyter-widgets/base",
      "model_module_version": "2.0.0",
      "model_name": "LayoutModel",
      "state": {}
     },
     "ee7a6173d8d543b6a1fbc60828f17385": {
      "model_module": "@jupyter-widgets/controls",
      "model_module_version": "2.0.0",
      "model_name": "HTMLStyleModel",
      "state": {
       "description_width": "",
       "font_size": null,
       "text_color": null
      }
     },
     "ee9c7bd48bc34276bd52db3d6b88b22b": {
      "model_module": "@jupyter-widgets/base",
      "model_module_version": "2.0.0",
      "model_name": "LayoutModel",
      "state": {}
     },
     "efada78b077d43aba4e51a22f4638733": {
      "model_module": "@jupyter-widgets/base",
      "model_module_version": "2.0.0",
      "model_name": "LayoutModel",
      "state": {}
     },
     "f305c29918bb4c61866bef3a0b4836c1": {
      "model_module": "@jupyter-widgets/base",
      "model_module_version": "2.0.0",
      "model_name": "LayoutModel",
      "state": {}
     },
     "f4e457abb07e43f4a4627d053c53847d": {
      "model_module": "@jupyter-widgets/base",
      "model_module_version": "2.0.0",
      "model_name": "LayoutModel",
      "state": {}
     },
     "f672df6e561544d9b019d1350f707f9c": {
      "model_module": "@jupyter-widgets/base",
      "model_module_version": "2.0.0",
      "model_name": "LayoutModel",
      "state": {}
     },
     "f6c815ff4a6a4c4cac5c0dcdd9f97459": {
      "model_module": "@jupyter-widgets/base",
      "model_module_version": "2.0.0",
      "model_name": "LayoutModel",
      "state": {}
     },
     "fb5c0487be6049109de1cc8fe6154274": {
      "model_module": "@jupyter-widgets/base",
      "model_module_version": "2.0.0",
      "model_name": "LayoutModel",
      "state": {}
     },
     "fe164787f691490c9aea741190a9bb43": {
      "model_module": "@jupyter-widgets/base",
      "model_module_version": "2.0.0",
      "model_name": "LayoutModel",
      "state": {}
     },
     "fef1682dd46b4e60b7a24d2c22bdd103": {
      "model_module": "@jupyter-widgets/controls",
      "model_module_version": "2.0.0",
      "model_name": "ProgressStyleModel",
      "state": {
       "description_width": ""
      }
     }
    },
    "version_major": 2,
    "version_minor": 0
   }
  }
 },
 "nbformat": 4,
 "nbformat_minor": 5
}
